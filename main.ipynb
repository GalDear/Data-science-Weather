{
 "cells": [
  {
   "cell_type": "code",
   "execution_count": 1,
   "metadata": {},
   "outputs": [],
   "source": [
    "import time\n",
    "\n",
    "import matplotlib\n",
    "import pandas as pd\n",
    "import requests\n",
    "from selenium import webdriver\n",
    "from selenium.webdriver.common.by import By\n",
    "from selenium.webdriver.chrome.options import Options\n",
    "from selenium.webdriver.support.ui import WebDriverWait\n",
    "from selenium.webdriver.support import expected_conditions as EC\n",
    "import numpy as np\n",
    "\n",
    "import matplotlib as mpl\n",
    "import matplotlib.pyplot as plt\n",
    "%matplotlib inline"
   ]
  },
  {
   "cell_type": "code",
   "execution_count": 2,
   "metadata": {},
   "outputs": [],
   "source": [
    "def data_collect():\n",
    "    chrome_options = Options()\n",
    "    chrome_options.add_argument(\"--headless\")\n",
    "    driver = webdriver.Chrome(\"C:/Users/yuval/PycharmProjects/Data-science-Weather/chromedriver/chromedriver\")#, options=chrome_options)\n",
    "    df = pd.DataFrame([], columns=[\"year\", \"month\", \"day\", \"temp\", \"humidity\", \"windspeed\", \"precipitation\"])\n",
    "    df_row_count=1\n",
    "\n",
    "    # switch temp from fahrenheit to celsius\n",
    "    driver.get(f\"https://www.wunderground.com/history/monthly/us/ny/new-york-city/KLGA/date/2000-1\")\n",
    "    settings = WebDriverWait(driver, 10).until(EC.presence_of_element_located((By.ID, \"wuSettings\")))\n",
    "    settings.click()\n",
    "    time.sleep(2)\n",
    "    celsius = WebDriverWait(driver, 10).until(EC.presence_of_element_located((By.XPATH,\n",
    "                                                                              '//*[@id=\"wuSettings-quick\"]/div/a[2]')))\n",
    "    celsius.click()\n",
    "\n",
    "    for year in range(2000,2023):\n",
    "        for month in range(1,13):\n",
    "            driver.get(f\"https://www.wunderground.com/history/monthly/us/ny/new-york-city/KLGA/date/{year}-{month}\")\n",
    "            try:\n",
    "                table_id= WebDriverWait(driver, 10).until(EC.presence_of_element_located((By.CLASS_NAME, \"days\")))\n",
    "                data = table_id.find_elements(By.TAG_NAME, \"table\") # get all of the rows in the table\n",
    "                num_of_days = len(data[1].find_elements(By.TAG_NAME, \"tr\"))\n",
    "\n",
    "                for i in range(1,num_of_days):\n",
    "                    day = int(data[0].find_elements(By.TAG_NAME, \"tr\")[i].text)\n",
    "                    temp = float(data[1].find_elements(By.TAG_NAME, \"tr\")[i].text.split(' ')[1])\n",
    "                    humidity = float(data[3].find_elements(By.TAG_NAME, \"tr\")[i].text.split(' ')[1])\n",
    "                    windspeed = float(data[4].find_elements(By.TAG_NAME, \"tr\")[i].text.split(' ')[1])\n",
    "                    precipitation = float(data[6].find_elements(By.TAG_NAME, \"tr\")[i].text)\n",
    "                    day_data = [year,month,day,temp,humidity,windspeed,precipitation]\n",
    "                    df.loc[df_row_count] = day_data\n",
    "                    df_row_count += 1\n",
    "            except Exception as e:\n",
    "                print(f\"cloud not get {year}-{month} data: {e}\")\n",
    "\n",
    "    driver.quit()\n",
    "    df.to_csv('~/Documents/nyc_weather.csv',index=False) #for debugging\n",
    "    return df"
   ]
  },
  {
   "cell_type": "code",
   "execution_count": 3,
   "metadata": {},
   "outputs": [],
   "source": [
    "def normalize_data(data_df, good_weather_values):\n",
    "    norm_df = data_df.copy()\n",
    "\n",
    "    for i in norm_df.columns:\n",
    "        if i not in ['year', 'month', 'day']:\n",
    "            good_min = good_weather_values[i][0]\n",
    "            good_max = good_weather_values[i][1]\n",
    "            diff_min = good_weather_values[i][0] - norm_df[i].min()\n",
    "            diff_max = norm_df[i].max() - good_weather_values[i][1]\n",
    "            norm_df.loc[(norm_df[i] < good_min), i] = 1 - ((good_min - norm_df[i]) / diff_min)\n",
    "            norm_df.loc[(norm_df[i] > good_max), i] = 1 - ((norm_df[i] - good_max) / diff_max)\n",
    "            norm_df.loc[(norm_df[i] <= good_max) & (norm_df[i] >= good_min), i] = 1\n",
    "    norm_df.insert(7, \"pleasant day\", 0)\n",
    "    norm_df.loc[(norm_df[\"temp\"] > 0),\"pleasant day\"] = (norm_df[\"temp\"] + norm_df[\"humidity\"] + norm_df[\"windspeed\"] + norm_df[\"precipitation\"]) / 4\n",
    "    norm_df.loc[(norm_df[\"temp\"] > 0) & (norm_df[\"precipitation\"].isna()), \"pleasant day\"] = (norm_df[\"temp\"] + norm_df[\"humidity\"] + norm_df[\"windspeed\"]) / 3\n",
    "\n",
    "    # norm_df.to_csv('~/Documents/nyc_weather_norm.csv', index=False)  # for debugging\n",
    "\n",
    "    return norm_df"
   ]
  },
  {
   "cell_type": "code",
   "execution_count": 4,
   "metadata": {},
   "outputs": [],
   "source": [
    "def remove_missing_data(data):\n",
    "    data.loc[data[\"year\"] <= 2014, \"precipitation\"] = np.NaN\n",
    "    return data"
   ]
  },
  {
   "cell_type": "code",
   "execution_count": 31,
   "metadata": {},
   "outputs": [],
   "source": [
    "def num_of_good_days_per_month(data):\n",
    "    fig, axes = plt.subplots(1, 1, figsize=(5, 5))\n",
    "    months=['Jan', 'Feb','Mar','Apr','May','jun','Jul','Aug','Sep','Oct','Nov','Dec']\n",
    "    res = {}\n",
    "    for i in range(0,12):\n",
    "        res[months[i]] = len(data.loc[(data['month'] == (i+1)) & (data['pleasant day'] >= 0.9)])\n",
    "    ser = pd.Series(res)\n",
    "    print(ser)\n",
    "    ser.plot(kind='pie', ax=axes)"
   ]
  },
  {
   "cell_type": "code",
   "execution_count": 36,
   "metadata": {},
   "outputs": [],
   "source": [
    "def num_of_good_days_trends(data):\n",
    "    fig, axes = plt.subplots(1, 1, figsize=(5, 5))\n",
    "    months=['Jan', 'Feb','Mar','Apr','May','jun','Jul','Aug','Sep','Oct','Nov','Dec']\n",
    "    res = {}\n",
    "    for j in range(2000,2023):\n",
    "        for i in range(0,12):\n",
    "            res[months[f\"{i}-{j}\"]] = round(data.loc[(data['month'] == (i+1)) & (data['year'] == j)].mean(),2)\n",
    "    print(res)\n",
    "    #ser.plot(kind='line', ax=axes)"
   ]
  },
  {
   "cell_type": "code",
   "execution_count": 38,
   "metadata": {},
   "outputs": [
    {
     "name": "stdout",
     "output_type": "stream",
     "text": [
      "Jan     11\n",
      "Feb     21\n",
      "Mar     81\n",
      "Apr    249\n",
      "May    326\n",
      "jun    314\n",
      "Jul    253\n",
      "Aug    277\n",
      "Sep    330\n",
      "Oct    258\n",
      "Nov    119\n",
      "Dec     24\n",
      "dtype: int64\n"
     ]
    },
    {
     "ename": "TypeError",
     "evalue": "list indices must be integers or slices, not str",
     "output_type": "error",
     "traceback": [
      "\u001b[0;31m---------------------------------------------------------------------------\u001b[0m",
      "\u001b[0;31mTypeError\u001b[0m                                 Traceback (most recent call last)",
      "\u001b[0;32m/var/folders/4k/s416hqtj4_dbrjh0_fsf_9m0kb4h4t/T/ipykernel_27558/1459064660.py\u001b[0m in \u001b[0;36m<module>\u001b[0;34m\u001b[0m\n\u001b[1;32m     11\u001b[0m     \u001b[0mnorm_df\u001b[0m \u001b[0;34m=\u001b[0m \u001b[0mnormalize_data\u001b[0m\u001b[0;34m(\u001b[0m\u001b[0mfixed_data\u001b[0m\u001b[0;34m,\u001b[0m \u001b[0mgood_weather_values\u001b[0m\u001b[0;34m)\u001b[0m\u001b[0;34m\u001b[0m\u001b[0;34m\u001b[0m\u001b[0m\n\u001b[1;32m     12\u001b[0m     \u001b[0mnum_of_good_days_per_month\u001b[0m\u001b[0;34m(\u001b[0m\u001b[0mnorm_df\u001b[0m\u001b[0;34m)\u001b[0m\u001b[0;34m\u001b[0m\u001b[0;34m\u001b[0m\u001b[0m\n\u001b[0;32m---> 13\u001b[0;31m     \u001b[0mnum_of_good_days_trends\u001b[0m\u001b[0;34m(\u001b[0m\u001b[0mnorm_df\u001b[0m\u001b[0;34m)\u001b[0m\u001b[0;34m\u001b[0m\u001b[0;34m\u001b[0m\u001b[0m\n\u001b[0m",
      "\u001b[0;32m/var/folders/4k/s416hqtj4_dbrjh0_fsf_9m0kb4h4t/T/ipykernel_27558/2503582842.py\u001b[0m in \u001b[0;36mnum_of_good_days_trends\u001b[0;34m(data)\u001b[0m\n\u001b[1;32m      5\u001b[0m     \u001b[0;32mfor\u001b[0m \u001b[0mj\u001b[0m \u001b[0;32min\u001b[0m \u001b[0mrange\u001b[0m\u001b[0;34m(\u001b[0m\u001b[0;36m2000\u001b[0m\u001b[0;34m,\u001b[0m\u001b[0;36m2023\u001b[0m\u001b[0;34m)\u001b[0m\u001b[0;34m:\u001b[0m\u001b[0;34m\u001b[0m\u001b[0;34m\u001b[0m\u001b[0m\n\u001b[1;32m      6\u001b[0m         \u001b[0;32mfor\u001b[0m \u001b[0mi\u001b[0m \u001b[0;32min\u001b[0m \u001b[0mrange\u001b[0m\u001b[0;34m(\u001b[0m\u001b[0;36m0\u001b[0m\u001b[0;34m,\u001b[0m\u001b[0;36m12\u001b[0m\u001b[0;34m)\u001b[0m\u001b[0;34m:\u001b[0m\u001b[0;34m\u001b[0m\u001b[0;34m\u001b[0m\u001b[0m\n\u001b[0;32m----> 7\u001b[0;31m             \u001b[0mres\u001b[0m\u001b[0;34m[\u001b[0m\u001b[0mmonths\u001b[0m\u001b[0;34m[\u001b[0m\u001b[0;34mf\"{i}-{j}\"\u001b[0m\u001b[0;34m]\u001b[0m\u001b[0;34m]\u001b[0m \u001b[0;34m=\u001b[0m \u001b[0mround\u001b[0m\u001b[0;34m(\u001b[0m\u001b[0mdata\u001b[0m\u001b[0;34m.\u001b[0m\u001b[0mloc\u001b[0m\u001b[0;34m[\u001b[0m\u001b[0;34m(\u001b[0m\u001b[0mdata\u001b[0m\u001b[0;34m[\u001b[0m\u001b[0;34m'month'\u001b[0m\u001b[0;34m]\u001b[0m \u001b[0;34m==\u001b[0m \u001b[0;34m(\u001b[0m\u001b[0mi\u001b[0m\u001b[0;34m+\u001b[0m\u001b[0;36m1\u001b[0m\u001b[0;34m)\u001b[0m\u001b[0;34m)\u001b[0m \u001b[0;34m&\u001b[0m \u001b[0;34m(\u001b[0m\u001b[0mdata\u001b[0m\u001b[0;34m[\u001b[0m\u001b[0;34m'year'\u001b[0m\u001b[0;34m]\u001b[0m \u001b[0;34m==\u001b[0m \u001b[0mj\u001b[0m\u001b[0;34m)\u001b[0m\u001b[0;34m]\u001b[0m\u001b[0;34m.\u001b[0m\u001b[0mmean\u001b[0m\u001b[0;34m(\u001b[0m\u001b[0;34m)\u001b[0m\u001b[0;34m,\u001b[0m\u001b[0;36m2\u001b[0m\u001b[0;34m)\u001b[0m\u001b[0;34m\u001b[0m\u001b[0;34m\u001b[0m\u001b[0m\n\u001b[0m\u001b[1;32m      8\u001b[0m     \u001b[0mprint\u001b[0m\u001b[0;34m(\u001b[0m\u001b[0mres\u001b[0m\u001b[0;34m)\u001b[0m\u001b[0;34m\u001b[0m\u001b[0;34m\u001b[0m\u001b[0m\n\u001b[1;32m      9\u001b[0m     \u001b[0;31m#ser.plot(kind='line', ax=axes)\u001b[0m\u001b[0;34m\u001b[0m\u001b[0;34m\u001b[0m\u001b[0m\n",
      "\u001b[0;31mTypeError\u001b[0m: list indices must be integers or slices, not str"
     ]
    },
    {
     "data": {
      "image/png": "[encoded data removed]",
      "text/plain": [
       "<Figure size 360x360 with 1 Axes>"
      ]
     },
     "metadata": {},
     "output_type": "display_data"
    },
    {
     "data": {
      "image/png": "[encoded data removed]",
      "text/plain": [
       "<Figure size 360x360 with 1 Axes>"
      ]
     },
     "metadata": {
      "needs_background": "light"
     },
     "output_type": "display_data"
    }
   ],
   "source": [
    "if __name__ == '__main__':\n",
    "    # nice weather:\n",
    "    # temp 18-25\n",
    "    # humidity 30-50%\n",
    "    # windspeed 0-7\n",
    "    # precipitation 0 - 0.5\n",
    "    good_weather_values = {'temp': [18,25], 'humidity':[30,50],'windspeed':[4,20], 'precipitation':[0,1]}\n",
    "    # df = data_collect()\n",
    "    df = pd.read_csv('~/Documents/nyc_weather.csv') # for debugging\n",
    "    fixed_data = remove_missing_data(df)\n",
    "    norm_df = normalize_data(fixed_data, good_weather_values)\n",
    "    num_of_good_days_per_month(norm_df)\n",
    "    num_of_good_days_trends(norm_df)"
   ]
  },
  {
   "cell_type": "code",
   "execution_count": null,
   "metadata": {},
   "outputs": [],
   "source": []
  }
 ],
 "metadata": {
  "interpreter": {
   "hash": "aee8b7b246df8f9039afb4144a1f6fd8d2ca17a180786b69acc140d282b71a49"
  },
  "kernelspec": {
   "display_name": "Python 3.10.0 64-bit",
   "language": "python",
   "name": "python3"
  },
  "language_info": {
   "codemirror_mode": {
    "name": "ipython",
    "version": 3
   },
   "file_extension": ".py",
   "mimetype": "text/x-python",
   "name": "python",
   "nbconvert_exporter": "python",
   "pygments_lexer": "ipython3",
   "version": "3.10.0"
  },
  "orig_nbformat": 4
 },
 "nbformat": 4,
 "nbformat_minor": 2
}
