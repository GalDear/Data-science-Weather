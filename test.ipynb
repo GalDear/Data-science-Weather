import time

import matplotlib
import pandas as pd
import requests
from selenium import webdriver
from selenium.webdriver.common.by import By
from selenium.webdriver.chrome.options import Options
from selenium.webdriver.support.ui import WebDriverWait
from selenium.webdriver.support import expected_conditions as EC
import numpy as np

import matplotlib as mpl
import matplotlib.pyplot as plt